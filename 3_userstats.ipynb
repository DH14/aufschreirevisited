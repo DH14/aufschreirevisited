{
 "metadata": {
  "name": ""
 },
 "nbformat": 3,
 "nbformat_minor": 0,
 "worksheets": [
  {
   "cells": [
    {
     "cell_type": "heading",
     "level": 1,
     "metadata": {},
     "source": [
      "Analysing #aufschrei with Python"
     ]
    },
    {
     "cell_type": "heading",
     "level": 2,
     "metadata": {},
     "source": [
      "Part 3: (The foundations of) User statistics!"
     ]
    },
    {
     "cell_type": "code",
     "collapsed": false,
     "input": [
      "import json\n",
      "import nltk\n",
      "import os\n",
      "import pymongo\n",
      "import re\n",
      "from collections import Counter\n",
      "from nltk.collocations import *\n",
      "from nltk.util import ngrams\n",
      "from string import punctuation\n",
      "from pandas import DataFrame"
     ],
     "language": "python",
     "metadata": {},
     "outputs": []
    },
    {
     "cell_type": "code",
     "collapsed": false,
     "input": [
      "con = pymongo.MongoClient('127.0.0.1', port=27017)\n",
      "aufschrei = con.aufschreirevisited.tweets"
     ],
     "language": "python",
     "metadata": {},
     "outputs": []
    },
    {
     "cell_type": "markdown",
     "metadata": {},
     "source": [
      "Load Tweets from database"
     ]
    },
    {
     "cell_type": "code",
     "collapsed": false,
     "input": [
      "nortre = re.compile(\"^(?!RT).+\",re.IGNORECASE) # matches everything thats not a manual RT\n",
      "aufschrei.create_index('created_at') # index DB\n",
      "cursor = aufschrei.find({\"retweeted_status\": {\"$exists\":False}, \"text\":nortre},\n",
      "                        {'user.screen_name' : 1, 'created_at' : 1, 'text' : 1 }\n",
      "                        ).sort('created_at', 1)\n",
      "utweets = []\n",
      "for tweet in cursor:\n",
      "    utweets += [{'username':tweet['user']['screen_name'],'time':tweet['created_at'],\n",
      "                 'text':tweet['text']}]"
     ],
     "language": "python",
     "metadata": {},
     "outputs": []
    },
    {
     "cell_type": "markdown",
     "metadata": {},
     "source": [
      "Close database connection"
     ]
    },
    {
     "cell_type": "code",
     "collapsed": false,
     "input": [
      "con.close()"
     ],
     "language": "python",
     "metadata": {},
     "outputs": []
    },
    {
     "cell_type": "markdown",
     "metadata": {},
     "source": [
      "Convert to DataFrame object"
     ]
    },
    {
     "cell_type": "code",
     "collapsed": false,
     "input": [
      "dftweets = DataFrame(utweets,columns = ['username','time','text'])\n",
      "dftweets[:10]"
     ],
     "language": "python",
     "metadata": {},
     "outputs": []
    },
    {
     "cell_type": "code",
     "collapsed": false,
     "input": [
      "dftweets_sort = dftweets.sort_index(by='username')"
     ],
     "language": "python",
     "metadata": {},
     "outputs": []
    },
    {
     "cell_type": "heading",
     "level": 3,
     "metadata": {},
     "source": [
      "Activity"
     ]
    },
    {
     "cell_type": "code",
     "collapsed": false,
     "input": [
      "unique_usernames = dftweets_sort['username'].unique()\n",
      "print(len(unique_usernames),\n",
      "      'unique users have contributed to the hashtag #aufschrei and posted',\n",
      "      len(dftweets),'tweets.')\n",
      "print('(an average of',len(dftweets)/len(unique_usernames),'tweets per user)')"
     ],
     "language": "python",
     "metadata": {},
     "outputs": []
    },
    {
     "cell_type": "heading",
     "level": 4,
     "metadata": {},
     "source": [
      "Most and least active users"
     ]
    },
    {
     "cell_type": "code",
     "collapsed": false,
     "input": [
      "vc = dftweets_sort['username'].value_counts()\n",
      "vc"
     ],
     "language": "python",
     "metadata": {},
     "outputs": []
    },
    {
     "cell_type": "heading",
     "level": 4,
     "metadata": {},
     "source": [
      "How many users have been active just once?"
     ]
    },
    {
     "cell_type": "code",
     "collapsed": false,
     "input": [
      "print(len(vc[vc == 1]))\n",
      "print(len(vc[vc == 1]) / len(vc) * 100,'%')"
     ],
     "language": "python",
     "metadata": {},
     "outputs": []
    },
    {
     "cell_type": "heading",
     "level": 4,
     "metadata": {},
     "source": [
      "How many users have been active less than three, resp. five times?"
     ]
    },
    {
     "cell_type": "code",
     "collapsed": false,
     "input": [
      "print(len(vc[vc < 3]))\n",
      "print(len(vc[vc < 3]) / len(vc) * 100,'%')"
     ],
     "language": "python",
     "metadata": {},
     "outputs": []
    },
    {
     "cell_type": "code",
     "collapsed": false,
     "input": [
      "print(len(vc[vc < 5]))\n",
      "print(len(vc[vc < 5]) / len(vc) * 100,'%')"
     ],
     "language": "python",
     "metadata": {},
     "outputs": []
    },
    {
     "cell_type": "heading",
     "level": 4,
     "metadata": {},
     "source": [
      "How many have been active 10 times or more?"
     ]
    },
    {
     "cell_type": "code",
     "collapsed": false,
     "input": [
      "print(len(vc[vc >= 10]))\n",
      "print(len(vc[vc >= 10]) / len(vc) * 100,'%')"
     ],
     "language": "python",
     "metadata": {},
     "outputs": []
    },
    {
     "cell_type": "heading",
     "level": 3,
     "metadata": {},
     "source": [
      "User specific corpora"
     ]
    },
    {
     "cell_type": "markdown",
     "metadata": {},
     "source": [
      "User specific corpora contain all tweets of a certain user. \n",
      "You can run all word statistic methods (as seen in notebook 1) on them. \n",
      "This will enable you to identify users' specific vocabulary and allow you to draw conclusions on how they participated in the #aufschrei debate (affirmative, supportive, adversely or just spamming/sharing news links).\n",
      "\n",
      "Analyzing Tweets on user level seems worthwhile in terms of categorization, as it's not very likely that the same person will participate in different ways."
     ]
    },
    {
     "cell_type": "code",
     "collapsed": false,
     "input": [
      "# create user specific corpus from a DataFrame object. Returns List of Tweets \n",
      "def create_corpus_for_user(dftweets,uname):\n",
      "    tweets = []\n",
      "    for dings in dftweets[dftweets['username'] == uname]['text']:\n",
      "        tweets.append(dings)\n",
      "    return tweets"
     ],
     "language": "python",
     "metadata": {},
     "outputs": []
    },
    {
     "cell_type": "code",
     "collapsed": false,
     "input": [
      "#example\n",
      "md = create_corpus_for_user(dftweets,'marthadear')"
     ],
     "language": "python",
     "metadata": {},
     "outputs": []
    },
    {
     "cell_type": "code",
     "collapsed": false,
     "input": [
      "for t in md:\n",
      "    print(t)"
     ],
     "language": "python",
     "metadata": {},
     "outputs": []
    },
    {
     "cell_type": "markdown",
     "metadata": {},
     "source": [
      "Now we can create user specific corpora for any user.\n",
      "For further corpus statistics, please refer to notebook 1."
     ]
    }
   ],
   "metadata": {}
  }
 ]
}